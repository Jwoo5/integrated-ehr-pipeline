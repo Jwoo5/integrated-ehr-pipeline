{
 "cells": [
  {
   "cell_type": "code",
   "execution_count": 41,
   "metadata": {},
   "outputs": [],
   "source": [
    "import pandas as pd\n",
    "import numpy as np\n",
    "import os\n",
    "import h5py"
   ]
  },
  {
   "cell_type": "code",
   "execution_count": 87,
   "metadata": {},
   "outputs": [],
   "source": [
    "src = 'mimiciii'\n",
    "emb_type='codebase'\n",
    "feature = 'whole'\n",
    "dir = f'/home/ghhur/.cache/ehr/{src}/{emb_type}/{feature}'\n",
    "base='/nfs_edlab/ghhur/UniHPF/input_test2/'"
   ]
  },
  {
   "cell_type": "code",
   "execution_count": 88,
   "metadata": {},
   "outputs": [],
   "source": [
    "icu_list = os.listdir(dir)"
   ]
  },
  {
   "cell_type": "code",
   "execution_count": 92,
   "metadata": {},
   "outputs": [],
   "source": [
    "tmp = pd.read_pickle(os.path.join(path, icu))"
   ]
  },
  {
   "cell_type": "code",
   "execution_count": 99,
   "metadata": {},
   "outputs": [
    {
     "data": {
      "text/plain": [
       "(3, 8192)"
      ]
     },
     "execution_count": 99,
     "metadata": {},
     "output_type": "execute_result"
    }
   ],
   "source": [
    "tmp['fl'].shape"
   ]
  },
  {
   "cell_type": "code",
   "execution_count": 89,
   "metadata": {},
   "outputs": [
    {
     "name": "stderr",
     "output_type": "stream",
     "text": [
      "/tmp/ipykernel_4010/754119202.py:12: VisibleDeprecationWarning: Creating an ndarray from ragged nested sequences (which is a list-or-tuple of lists-or-tuples-or ndarrays with different lengths or shapes) is deprecated. If you meant to do this, you must specify 'dtype=object' when creating the ndarray.\n",
      "  tmp_dict[k] = np.array(tmp_dict[k])\n"
     ]
    }
   ],
   "source": [
    "tmp_dict={\n",
    "    'hi':[], \n",
    "    'fl':[],\n",
    "    'time':[]\n",
    "}\n",
    "for icu in icu_list:\n",
    "    tmp = pd.read_pickle(os.path.join(path, icu))\n",
    "    for k in tmp.keys():\n",
    "        tmp_dict[k].append((tmp[k]).tolist())\n",
    "        \n",
    "for k in tmp.keys():\n",
    "    tmp_dict[k] = np.array(tmp_dict[k])\n",
    "        "
   ]
  },
  {
   "cell_type": "code",
   "execution_count": 91,
   "metadata": {},
   "outputs": [
    {
     "data": {
      "text/plain": [
       "(45080, 3, 8192)"
      ]
     },
     "execution_count": 91,
     "metadata": {},
     "output_type": "execute_result"
    }
   ],
   "source": [
    "tmp_dict['fl'].shape"
   ]
  },
  {
   "cell_type": "code",
   "execution_count": 60,
   "metadata": {},
   "outputs": [],
   "source": [
    "data_path = os.path.join(base, f\"{emb_type}_{feature}_{src}.h5\")"
   ]
  },
  {
   "cell_type": "code",
   "execution_count": 64,
   "metadata": {},
   "outputs": [],
   "source": [
    "data = h5py.File(data_path, \"r\")['ehr']"
   ]
  }
 ],
 "metadata": {
  "kernelspec": {
   "display_name": "fedpxn",
   "language": "python",
   "name": "fedpxn"
  },
  "language_info": {
   "codemirror_mode": {
    "name": "ipython",
    "version": 3
   },
   "file_extension": ".py",
   "mimetype": "text/x-python",
   "name": "python",
   "nbconvert_exporter": "python",
   "pygments_lexer": "ipython3",
   "version": "3.9.13"
  },
  "orig_nbformat": 4,
  "vscode": {
   "interpreter": {
    "hash": "31f2aee4e71d21fbe5cf8b01ff0e069b9275f58929596ceb00d14d90e3e16cd6"
   }
  }
 },
 "nbformat": 4,
 "nbformat_minor": 2
}
